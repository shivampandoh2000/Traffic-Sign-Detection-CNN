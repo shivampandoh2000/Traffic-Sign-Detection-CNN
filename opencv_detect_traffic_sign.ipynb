{
 "cells": [
  {
   "cell_type": "code",
   "execution_count": 1,
   "metadata": {},
   "outputs": [],
   "source": [
    "import numpy as np\n",
    "import cv2\n",
    "from keras.models import model_from_json\n",
    "from keras.preprocessing import image"
   ]
  },
  {
   "cell_type": "code",
   "execution_count": 2,
   "metadata": {},
   "outputs": [],
   "source": [
    "font=cv2.FONT_HERSHEY_SIMPLEX\n",
    "threshold=0.5"
   ]
  },
  {
   "cell_type": "code",
   "execution_count": 3,
   "metadata": {},
   "outputs": [],
   "source": [
    "#cap=cv2.imread(\"Test/00084.png\")\n",
    "#load model\n",
    "model = model_from_json(open(\"fer.json\", \"r\").read())\n",
    "#load weights\n",
    "model.load_weights('fer.h5')"
   ]
  },
  {
   "cell_type": "code",
   "execution_count": 4,
   "metadata": {},
   "outputs": [],
   "source": [
    "\n",
    "def getclassifier(classno):\n",
    "    if(classno==0):\n",
    "        return 'speed limit 20 km/s'\n",
    "    elif(classno==1):\n",
    "        return 'speed limit 30 km/s'\n",
    "    elif(classno==2):\n",
    "        return 'speed limit 50 km/s'\n",
    "    elif(classno==3):\n",
    "        return 'speed limit 60 km/s'\n",
    "    elif(classno==4):\n",
    "        return 'speed limit 70 km/s'\n",
    "    elif(classno==5):\n",
    "        return 'speed limit 80 km/s'\n",
    "    elif(classno==6):\n",
    "        return 'end of speed limit 80 km/s'\n",
    "    elif(classno==7):\n",
    "        return 'speed limit 100 km/s'\n",
    "    elif(classno==8):\n",
    "        return 'speed limit 120 km/s'\n",
    "    elif(classno==9):\n",
    "        return 'no passing'\n",
    "    elif(classno==10):\n",
    "        return 'no passing for vechiles over 3.5 metric tons'\n",
    "    elif(classno==11):\n",
    "        return 'right of way at the next intersection'\n",
    "    elif(classno==12):\n",
    "        return 'priority road'\n",
    "    elif(classno==13):\n",
    "        return 'yield'\n",
    "    elif(classno==14):\n",
    "        return 'stop'\n",
    "    elif(classno==15):\n",
    "        return 'no vechiles'\n",
    "    elif(classno==16):\n",
    "        return 'vechiles over 3.5 metric tons prohibited'\n",
    "    elif(classno==17):\n",
    "        return 'no entry'\n",
    "    elif(classno==18):\n",
    "        return 'general caution'\n",
    "    elif(classno==19):\n",
    "        return 'dangerous curve to the left'\n",
    "    elif(classno==20):\n",
    "        return 'dangerous curve to the right'\n",
    "    elif(classno==21):\n",
    "        return 'double curve'\n",
    "    elif(classno==22):\n",
    "        return 'bumpy road'\n",
    "    elif(classno==23):\n",
    "        return 'slippery road'\n",
    "    elif(classno==24):\n",
    "        return 'road narrows on the right'\n",
    "    elif(classno==25):\n",
    "        return 'road work'\n",
    "    elif(classno==26):\n",
    "        return 'traffic signals'\n",
    "    elif(classno==27):\n",
    "        return 'pedestrains'\n",
    "    elif(classno==28):\n",
    "        return 'children crossing'\n",
    "    elif(classno==29):\n",
    "        return 'bicycles crossing'\n",
    "    elif(classno==30):\n",
    "        return 'beware of ice/snow'\n",
    "    elif(classno==31):\n",
    "        return 'wild animals crossing'\n",
    "    elif(classno==32):\n",
    "        return 'end of all speed and passing limits'\n",
    "    elif(classno==33):\n",
    "        return 'turn right ahead'\n",
    "    elif(classno==34):\n",
    "        return 'turn left ahead'\n",
    "    elif(classno==35):\n",
    "        return 'ahead only'\n",
    "    elif(classno==36):\n",
    "        return 'go straight or right'\n",
    "    elif(classno==37):\n",
    "        return 'go straight or left'\n",
    "    elif(classno==38):\n",
    "        return 'keep right'\n",
    "    elif(classno==39):\n",
    "        return 'keep left'\n",
    "    elif(classno==40):\n",
    "        return 'roundabout mandatory'\n",
    "    elif(classno==41):\n",
    "        return 'end of no passing'\n",
    "    elif(classno==42):\n",
    "        return 'end of no passing by vechiles over 3.5 metric tons'"
   ]
  },
  {
   "cell_type": "code",
   "execution_count": 5,
   "metadata": {},
   "outputs": [],
   "source": [
    "#img=np.array(cap)\n",
    "#img.shape"
   ]
  },
  {
   "cell_type": "code",
   "execution_count": 6,
   "metadata": {},
   "outputs": [],
   "source": [
    "# img=np.array(cap)\n",
    "# temp = img\n",
    "# img=cv2.resize(img,(32,32))\n",
    "# img=img/255\n",
    "# cv2.imshow(\"image process\",img)\n",
    "# cv2.putText(temp,'CLASS: ',(10,5),font,0.25,(0,0,255),2,cv2.LINE_AA)\n",
    "# cv2.putText(temp,\"PROBABILITY: \",(10,30),font,0.25,(255,0,0),2,cv2.LINE_AA)\n",
    "# img=img.reshape(1,32,32,3)\n",
    "# prediction=model.predict(img)\n",
    "# classIndex=model.predict_classes(img)\n",
    "# probabilityvalue=np.amax(prediction)\n",
    "# if(probabilityvalue>threshold):\n",
    "#     cv2.putText(temp,str(classIndex)+\" \"+str(getclassifier(classIndex)),(40,5),font,0.25,(0,0,255),2,cv2.LINE_AA)\n",
    "#     cv2.putText(temp,str(round(probabilityvalue*100,2))+\"%\",(40,30),font,0.25,(255,0,0),2,cv2.LINE_AA)   \n",
    "        \n",
    "# cv2.imshow(\"Result\",temp)\n",
    "\n",
    "# cv2.waitKey(0) \n",
    "# cv2.destroyAllWindows()"
   ]
  },
  {
   "cell_type": "code",
   "execution_count": 7,
   "metadata": {},
   "outputs": [],
   "source": [
    "from PIL import Image\n",
    "import matplotlib.pyplot as plt\n",
    "\n",
    "def test_on_image(img):\n",
    "    data=[]\n",
    "    image=Image.open(img)\n",
    "    image=image.resize((64,64))\n",
    "    data.append(np.array(image))\n",
    "    x_test=np.array(data)\n",
    "    y_pred=model.predict_classes(x_test)\n",
    "    return image,y_pred\n"
   ]
  },
  {
   "cell_type": "code",
   "execution_count": 8,
   "metadata": {},
   "outputs": [
    {
     "name": "stdout",
     "output_type": "stream",
     "text": [
      "WARNING:tensorflow:From <ipython-input-7-56c481cf903c>:10: Sequential.predict_classes (from tensorflow.python.keras.engine.sequential) is deprecated and will be removed after 2021-01-01.\n",
      "Instructions for updating:\n",
      "Please use instead:* `np.argmax(model.predict(x), axis=-1)`,   if your model does multi-class classification   (e.g. if it uses a `softmax` last-layer activation).* `(model.predict(x) > 0.5).astype(\"int32\")`,   if your model does binary classification   (e.g. if it uses a `sigmoid` last-layer activation).\n",
      "predicted traffic sign  double curve\n"
     ]
    },
    {
     "data": {
      "image/png": "[encoded data removed]",
      "text/plain": [
       "<Figure size 432x288 with 1 Axes>"
      ]
     },
     "metadata": {
      "needs_background": "light"
     },
     "output_type": "display_data"
    }
   ],
   "source": [
    "plot,prediction=test_on_image('Test/08460.png')\n",
    "s=[str(i) for i in prediction]\n",
    "a=int(\"\".join(s))\n",
    "print(\"predicted traffic sign \",getclassifier(a))\n",
    "plt.imshow(plot)\n",
    "plt.show()"
   ]
  },
  {
   "cell_type": "code",
   "execution_count": null,
   "metadata": {},
   "outputs": [],
   "source": []
  }
 ],
 "metadata": {
  "kernelspec": {
   "display_name": "Python 3",
   "language": "python",
   "name": "python3"
  },
  "language_info": {
   "codemirror_mode": {
    "name": "ipython",
    "version": 3
   },
   "file_extension": ".py",
   "mimetype": "text/x-python",
   "name": "python",
   "nbconvert_exporter": "python",
   "pygments_lexer": "ipython3",
   "version": "3.8.3"
  }
 },
 "nbformat": 4,
 "nbformat_minor": 4
}
